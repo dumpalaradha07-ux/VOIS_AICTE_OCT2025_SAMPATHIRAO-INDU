{
 "cells": [
  {
   "cell_type": "markdown",
   "id": "e0a61cc8",
   "metadata": {},
   "source": [
    "# Netflix Data Analysis — Intermediate Project\n",
    "\n",
    "This notebook adapts to the actual column names present in your uploaded CSV. It performs cleaning, EDA and visualization using matplotlib."
   ]
  },
  {
   "cell_type": "markdown",
   "id": "dd366834",
   "metadata": {},
   "source": [
    "## Detected columns\n",
    "\n",
    "The code will attempt to use the following standardized column names (created from your CSV):\n",
    "\n",
    "- **type** -> `Type`\n",
    "- **title** -> `Title`\n",
    "- **date_added** -> `None`\n",
    "- **country** -> `Country`\n",
    "- **listed_in** -> `None`\n",
    "- **rating** -> `Rating`\n",
    "- **duration** -> `Duration`\n",
    "- **director** -> `Director`\n",
    "- **cast** -> `Cast`"
   ]
  },
  {
   "cell_type": "code",
   "execution_count": null,
   "id": "b1a24524",
   "metadata": {},
   "outputs": [],
   "source": [
    "import pandas as pd\n",
    "import matplotlib.pyplot as plt\n",
    "import numpy as np\n",
    "from collections import Counter\n",
    "pd.set_option('display.max_columns', 50)"
   ]
  },
  {
   "cell_type": "code",
   "execution_count": null,
   "id": "2c7161eb",
   "metadata": {},
   "outputs": [],
   "source": [
    "csv_path = r'/mnt/data/netflix_project.csv'\n",
    "df = pd.read_csv(csv_path, encoding='latin1')\n",
    "# Build mapping of likely columns (same logic as notebook creator)\n",
    "cols = list(df.columns)\n",
    "cols_low = [c.lower() for c in cols]\n",
    "\n",
    "def find_col(key_candidates):\n",
    "    for k in key_candidates:\n",
    "        for i,c in enumerate(cols_low):\n",
    "            if k in c:\n",
    "                return cols[i]\n",
    "    return None\n",
    "\n",
    "mapping = {\n",
    "    'type': find_col(['type','show_type','program_type']),\n",
    "    'title': find_col(['title','name']),\n",
    "    'date_added': find_col(['date_added','date added','added']),\n",
    "    'country': find_col(['country','countries']),\n",
    "    'listed_in': find_col(['listed','genre','genres']),\n",
    "    'rating': find_col(['rating']),\n",
    "    'duration': find_col(['duration','runtime','length']),\n",
    "    'director': find_col(['director']),\n",
    "    'cast': find_col(['cast','actors','cast list'])\n",
    "}\n",
    "\n",
    "# Create standardized fields\n",
    "for std, col in mapping.items():\n",
    "    if col is not None:\n",
    "        df[std] = df[col]\n",
    "    else:\n",
    "        df[std] = np.nan\n",
    "\n",
    "# Parse date and show preview\n",
    "if 'date_added' in df.columns:\n",
    "    df['date_added'] = pd.to_datetime(df['date_added'], errors='coerce')\n",
    "    df['year_added'] = df['date_added'].dt.year.fillna(0).astype(int)\n",
    "\n",
    "df.head()"
   ]
  },
  {
   "cell_type": "markdown",
   "id": "2c982716",
   "metadata": {},
   "source": [
    "## EDA\n",
    "\n",
    "Plots will only run if the related columns were detected."
   ]
  },
  {
   "cell_type": "code",
   "execution_count": null,
   "id": "90b8245f",
   "metadata": {},
   "outputs": [],
   "source": [
    "# 1) Type counts\n",
    "if df['type'].notna().any():\n",
    "    ax = df['type'].fillna('Unknown').value_counts().plot(kind='bar', figsize=(6,4))\n",
    "    ax.set_title('Count by Type')\n",
    "    plt.tight_layout()\n",
    "    plt.show()\n",
    "else:\n",
    "    print('No type-like column detected.')"
   ]
  },
  {
   "cell_type": "code",
   "execution_count": null,
   "id": "0bbcdb72",
   "metadata": {},
   "outputs": [],
   "source": [
    "# 2) Content added per year\n",
    "if 'year_added' in df.columns and (df['year_added']>0).any():\n",
    "    yc = df[df['year_added']>0]['year_added'].value_counts().sort_index()\n",
    "    ax = yc.plot(kind='line', marker='o', figsize=(10,4))\n",
    "    ax.set_title('Content Added Per Year')\n",
    "    ax.grid(True)\n",
    "    plt.tight_layout()\n",
    "    plt.show()\n",
    "else:\n",
    "    print('No usable date_added column detected.')"
   ]
  },
  {
   "cell_type": "code",
   "execution_count": null,
   "id": "39052bbf",
   "metadata": {},
   "outputs": [],
   "source": [
    "# 3) Top countries\n",
    "if df['country'].notna().any():\n",
    "    countries = df['country'].dropna().astype(str).str.split(',').str[0].str.strip()\n",
    "    top_countries = countries.value_counts().head(10)\n",
    "    ax = top_countries.plot(kind='barh', figsize=(8,4))\n",
    "    ax.invert_yaxis()\n",
    "    plt.tight_layout()\n",
    "    plt.show()\n",
    "else:\n",
    "    print('No country-like column detected.')"
   ]
  },
  {
   "cell_type": "code",
   "execution_count": null,
   "id": "dd18c440",
   "metadata": {},
   "outputs": [],
   "source": [
    "# 4) Top genres\n",
    "if df['listed_in'].notna().any():\n",
    "    genres_series = df['listed_in'].dropna().astype(str).str.split(',')\n",
    "    c = Counter()\n",
    "    for g in genres_series:\n",
    "        for item in g:\n",
    "            c[item.strip()] += 1\n",
    "    most_common_genres = pd.Series(dict(c)).sort_values(ascending=False).head(15)\n",
    "    ax = most_common_genres.plot(kind='bar', figsize=(10,4))\n",
    "    plt.xticks(rotation=45, ha='right')\n",
    "    plt.tight_layout()\n",
    "    plt.show()\n",
    "else:\n",
    "    print('No genre-like column detected.')"
   ]
  },
  {
   "cell_type": "code",
   "execution_count": null,
   "id": "59c66c79",
   "metadata": {},
   "outputs": [],
   "source": [
    "# 5) Rating distribution\n",
    "if df['rating'].notna().any():\n",
    "    ax = df['rating'].fillna('Unknown').value_counts().head(12).plot(kind='bar', figsize=(8,4))\n",
    "    plt.tight_layout()\n",
    "    plt.show()\n",
    "else:\n",
    "    print('No rating-like column detected.')"
   ]
  },
  {
   "cell_type": "code",
   "execution_count": null,
   "id": "a40ed85c",
   "metadata": {},
   "outputs": [],
   "source": [
    "# 6) Duration parsing\n",
    "if df['duration'].notna().any():\n",
    "    def parse_duration(x):\n",
    "        try:\n",
    "            if pd.isna(x):\n",
    "                return np.nan\n",
    "            s = str(x)\n",
    "            num = ''.join(ch for ch in s if ch.isdigit())\n",
    "            return int(num) if num else np.nan\n",
    "        except:\n",
    "            return np.nan\n",
    "    df['duration_num'] = df['duration'].apply(parse_duration)\n",
    "    movies = df[df['type']=='Movie']['duration_num'].dropna()\n",
    "    if len(movies)>0:\n",
    "        ax = movies.hist(bins=30, figsize=(8,4))\n",
    "        plt.title('Distribution of Movie Durations (numeric part)')\n",
    "        plt.tight_layout()\n",
    "        plt.show()\n",
    "    else:\n",
    "        print('No movie durations found after parsing.')\n",
    "else:\n",
    "    print('No duration-like column detected.')"
   ]
  },
  {
   "cell_type": "markdown",
   "id": "62250e87",
   "metadata": {},
   "source": [
    "## Conclusions & next steps\n",
    "- The notebook adapts to your CSV column names and produces plots where possible.\n",
    "- Next: deeper NLP on titles/descriptions, clustering by features, and interactive dashboards."
   ]
  }
 ],
 "metadata": {},
 "nbformat": 4,
 "nbformat_minor": 5
}
